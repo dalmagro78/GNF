{
 "cells": [
  {
   "cell_type": "markdown",
   "metadata": {},
   "source": [
    "## Creacion y solucion del sistema  formado por:\n",
    "\n",
    "$-\\delta_{n,\\sigma} = -(w-E_0+i\\eta)g^r_{n,\\xi\\sigma} + \\gamma\\left(\n",
    "e^{i\\theta}g^r_{n+(N+1),\\xi\\sigma}+e^{-i\\theta}g^r_{n+(N-1),\\xi\\sigma}\\right) + \\frac{i\\lambda_{EO}}{2}\\nu\\xi g^r_{n+(N+2),\\xi\\sigma} + \\frac{i\\lambda_R}{2}e^{-i\\xi\\sigma\\psi}\\left(g^r_{n+(N-1),-\\xi\\sigma}-g^r_{n+(N+1),-\\xi\\sigma}\n",
    "\\right)$\n",
    "\n",
    "con el argumento de periodicidad:  $g^r_{N+n,\\xi\\sigma}=g^r_{n,\\xi\\sigma}$\n",
    "\n",
    "\n",
    "Veamos cada los valores que acompanan a cada termino por separado:\n",
    "\n",
    "$(t_0) \\rightarrow g^r_{n,\\xi\\sigma}$\n",
    "\n",
    "$(t_1) \\rightarrow g^r_{n+(N+1),\\xi\\sigma}$ \n",
    "\n",
    "$(t_2) \\rightarrow g^r_{n+(N-1),\\xi\\sigma}$ \n",
    "\n",
    "$(t_3) \\rightarrow g^r_{n+(N+2),\\xi\\sigma}$ \n",
    "\n",
    "$(t_4) \\rightarrow g^r_{n+(N-1),-\\xi\\sigma}$ \n",
    "\n",
    "$(t_5) \\rightarrow g^r_{n+(N+1),-\\xi\\sigma}$\n",
    "\n",
    "El punto es crear un sistema algebraico del tipo $Ag^r=B$ y resolver para $g^r$"
   ]
  },
  {
   "cell_type": "code",
   "execution_count": 13,
   "metadata": {},
   "outputs": [],
   "source": [
    "import numpy as np\n",
    "import matplotlib.pyplot as plt \n",
    "from time import time\n",
    "from scipy.sparse.linalg import spsolve\n",
    "from scipy import sparse\n",
    "from scipy.integrate import simps, trapz"
   ]
  },
  {
   "cell_type": "code",
   "execution_count": 14,
   "metadata": {},
   "outputs": [],
   "source": [
    "N = 4 # numero de sitios\n",
    "gamma = 1\n",
    "theta = 0\n",
    "nu = 1\n",
    "l_R = 0\n",
    "l_EO = 0\n",
    "sigma = 1\n",
    "E0 = 0\n",
    "KbT = 1\n",
    "w = 1\n",
    "eta = 1.0E-4\n",
    "e = 1\n",
    "c = 1\n",
    "h = 1\n",
    "phi_0 = c*h/e\n",
    "phi = phi_0/N\n",
    "theta = 2*np.pi*phi/N\n",
    "psi = 2*np.pi/N\n",
    "mu = 1\n"
   ]
  },
  {
   "cell_type": "code",
   "execution_count": 15,
   "metadata": {},
   "outputs": [],
   "source": [
    "def fila(n,xi,w,theta,psi):\n",
    "    '''\n",
    "    Esta función crea cada fila (cada ecuación)\n",
    "    n indica el sitio en cuestión\n",
    "    '''\n",
    "    A = np.zeros(2*N,dtype=complex)\n",
    "    # evaluemos cada termino\n",
    "    if xi==1: i = 0\n",
    "    else: i = N\n",
    "    A[n-1+i] += -(w-E0+eta*1.0j) # t0\n",
    "    k = N+1\n",
    "    l = (n+k)%N\n",
    "    if(l==0): l=N \n",
    "    A[l-1+i] += gamma*np.exp(theta*1j) # t1\n",
    "    k = N-1\n",
    "    l = (n+k)%N\n",
    "    if(l==0): l=N \n",
    "    A[l-1+i] += gamma*np.exp(-theta*1j) # t2 \n",
    "    k = N+2\n",
    "    l = (n+k)%N\n",
    "    if(l==0): l=N \n",
    "    A[l-1+i] += l_EO*nu*xi*0.5j # t3\n",
    "    if xi==1: i = N\n",
    "    else: i = 0\n",
    "    k = N-1\n",
    "    l = (n+k)%N\n",
    "    if(l==0): l=N \n",
    "    A[l-1+i] += l_R*np.exp(-xi*sigma*psi*1j)*0.5j  # t4\n",
    "    k = N+1\n",
    "    l = (n+k)%N\n",
    "    if(l==0): l=N\n",
    "    A[l-1+i] += -l_R*np.exp(-xi*sigma*psi*1j)*0.5j # t5    \n",
    "    return A\n",
    "\n",
    "def matrix_A(w,theta,psi):\n",
    "    '''\n",
    "    Esta función crea la matriz completa con los valores de xi=1 \n",
    "    y luego con los valores de xi=-1, en ese orden\n",
    "    '''\n",
    "    A = np.matrix(np.empty(shape=(0,2*N), dtype=complex))\n",
    "    for n in range(1,N+1):  \n",
    "        a1 = fila(n,1,w,theta,psi)\n",
    "        A = np.insert(A,(n-1),a1,axis=0)\n",
    "    for n in range(1,N+1):  \n",
    "        a1 = fila(n,-1,w,theta,psi)\n",
    "        A = np.insert(A,(n-1)+N,a1,axis=0)\n",
    "    A1 = sparse.csr_matrix(A)\n",
    "    return A1\n",
    "\n",
    "\n",
    "A = matrix_A(w,theta,psi)\n",
    "#print(A)\n",
    "\n",
    "B = np.zeros(2*N,dtype=complex)\n",
    "B[0] = -1"
   ]
  },
  {
   "cell_type": "markdown",
   "metadata": {},
   "source": [
    "# Calculo de la densidad de Corriente J\n",
    "\n",
    "\n",
    "$J_c = ie\\left[2i\\gamma \\mathcal{I}\\left(e^{i\\theta}(-ig^{<}_{2,\\sigma})\\right) \n",
    "+\\lambda_{EO}\\nu_n\\sigma g^{<}_{3,\\sigma} +2i\\lambda_R \\mathcal{R}\\left(\n",
    "e^{-i\\sigma\\psi}\\left(-ig^{<}_{2,(-\\sigma)}\\right)\\right)\\right]$\n",
    "\n",
    "con \n",
    "\n",
    "$g^{<}(w)=\\frac{2i\\mathcal{I}(g^r)}{e^{\\beta w}+1}$\n",
    "\n",
    "En este caso tomare como $g^r$ los obtenidos numericamente de la resolucion del sistema AG=B\n"
   ]
  },
  {
   "cell_type": "code",
   "execution_count": 16,
   "metadata": {},
   "outputs": [],
   "source": [
    "def den_corr(G,w,theta,psi):\n",
    "    '''\n",
    "    Calculo de la densidad de corriente\n",
    "    '''\n",
    "    g21 = 2j*G[1].imag/(np.exp(w/KbT)+1) # G[2,1]\n",
    "    g31 = 2j*G[2].imag/(np.exp(w/KbT)+1) # G[3,1]\n",
    "    g2_1 = 2j*G[N+1].imag/(np.exp(w/KbT)+1) # G[2,-1]\n",
    "    t1 = -1.0j*np.exp(-1j*theta)*g21\n",
    "    t2 = -1.0j*np.exp(-1j*sigma*psi)*g2_1\n",
    "    Jc = (1j*e)*(2j*gamma*t1.imag + l_EO*nu*sigma*g31 + 2j*l_R*t2.real)\n",
    "    return Jc"
   ]
  },
  {
   "cell_type": "markdown",
   "metadata": {},
   "source": [
    "## Densidad espectral\n",
    "\n",
    "$\n",
    "\\rho(w) = -\\frac{1}{\\pi}\\mathcal{I}(g^r_{1,1})\n",
    "$\n",
    "\n"
   ]
  },
  {
   "cell_type": "code",
   "execution_count": 17,
   "metadata": {},
   "outputs": [],
   "source": [
    "def den_espectral(G):\n",
    "    return -G[0].imag/np.pi\n"
   ]
  },
  {
   "cell_type": "markdown",
   "metadata": {},
   "source": [
    "- - - \n",
    "## Grafiquemos $\\rho(w)$ vs $w$"
   ]
  },
  {
   "cell_type": "code",
   "execution_count": 18,
   "metadata": {},
   "outputs": [],
   "source": [
    "\n",
    "def rho_w(w_0,w_f,nw):\n",
    "    w1 = np.linspace(w_0,w_f,nw)\n",
    "    Den = np.array([],dtype=complex)\n",
    "    for w in w1:\n",
    "        A = matrix_A(w,theta,psi)       # creamos la matriz A\n",
    "        B = np.zeros(2*N,dtype=complex) # creamos el vector B\n",
    "        B[0] = -1\n",
    "        #G = np.dot(np.linalg.inv(A),B)  # Resolvemos el sistema AG=B\n",
    "        G = spsolve(A,B)\n",
    "        G = np.asarray(G).ravel()\n",
    "        Den = np.append(Den,den_espectral(G)) # calculamos densidad espectral\n",
    "    return w1, Den\n"
   ]
  },
  {
   "cell_type": "code",
   "execution_count": 19,
   "metadata": {},
   "outputs": [
    {
     "name": "stdout",
     "output_type": "stream",
     "text": [
      "Elapsed time: 0.8824439049 seconds.\n"
     ]
    },
    {
     "data": {
      "image/png": "[encoded data removed]",
      "text/plain": [
       "<Figure size 432x288 with 1 Axes>"
      ]
     },
     "metadata": {
      "needs_background": "light"
     },
     "output_type": "display_data"
    }
   ],
   "source": [
    "l_R = 0.0\n",
    "l_EO = 0.0\n",
    "\n",
    "start_time = time()\n",
    "\n",
    "w1,Den_esp = rho_w(-3,3,1000)\n",
    "plt.plot(w1,Den_esp.real) # grafico la densidad espectral\n",
    "plt.title(\"$\\\\rho$ vs $w$\")\n",
    "plt.xlabel(\"$w$\")\n",
    "plt.ylabel(\"$\\\\rho$\")\n",
    "\n",
    "elapsed_time = time() - start_time\n",
    "print(\"Elapsed time: %.10f seconds.\" % elapsed_time)\n"
   ]
  },
  {
   "cell_type": "markdown",
   "metadata": {},
   "source": [
    "## Grafiquemos $J_c(w)$ vs $w$"
   ]
  },
  {
   "cell_type": "code",
   "execution_count": 20,
   "metadata": {},
   "outputs": [],
   "source": [
    "\n",
    "def Jc_w(w_0,w_f,nw):\n",
    "    w1 = np.linspace(w_0,w_f,nw)\n",
    "    Jc = np.array([],dtype=complex)\n",
    "    for w in w1:\n",
    "        A = matrix_A(w,theta,psi)       # creamos la matriz A\n",
    "        B = np.zeros(2*N,dtype=complex) # creamos el vector B\n",
    "        B[0] = -1\n",
    "        #G = np.dot(np.linalg.inv(A),B)  # Resolvemos el sistema AG=B\n",
    "        G = spsolve(A,B)\n",
    "        G = np.asarray(G).ravel()\n",
    "        Jc = np.append(Jc,den_corr(G,w,theta,psi)) # calculamos densidad espectral\n",
    "    return w1, Jc\n"
   ]
  },
  {
   "cell_type": "code",
   "execution_count": 21,
   "metadata": {},
   "outputs": [
    {
     "name": "stdout",
     "output_type": "stream",
     "text": [
      "Elapsed time: 4.5439445972 seconds.\n"
     ]
    },
    {
     "data": {
      "image/png": "[encoded data removed]",
      "text/plain": [
       "<Figure size 432x288 with 1 Axes>"
      ]
     },
     "metadata": {
      "needs_background": "light"
     },
     "output_type": "display_data"
    }
   ],
   "source": [
    "l_R = 0.12\n",
    "l_EO = 0.07\n",
    "\n",
    "start_time = time()\n",
    "\n",
    "w1,Den_corr = Jc_w(-3,3,5001)\n",
    "plt.plot(w1,Den_corr.real) # grafico la densidad de corriente\n",
    "plt.title(\"$J_c$ vs $w$\")\n",
    "plt.xlabel(\"$w$\")\n",
    "plt.ylabel(\"$J_c$\")\n",
    "elapsed_time = time() - start_time\n",
    "print(\"Elapsed time: %.10f seconds.\" % elapsed_time)"
   ]
  },
  {
   "cell_type": "markdown",
   "metadata": {},
   "source": [
    "## Calculo de la corriente\n",
    "\n",
    "$I(\\phi)=\\int_{-\\infty}^{\\mu}Jc(w)dw$"
   ]
  },
  {
   "cell_type": "code",
   "execution_count": 22,
   "metadata": {},
   "outputs": [],
   "source": [
    "mu = 0.0\n",
    "def corriente(p_0,p_f,n_p):\n",
    "    p1 = np.linspace(p_0,p_f,n_p)\n",
    "    I1 = np.array([],dtype=float)\n",
    "    for p in p1: \n",
    "        global psi\n",
    "        psi = p\n",
    "        w1,Den_corr = Jc_w(-3,mu,1001)\n",
    "        I1 = np.append(I1,simps(Den_corr.real,w1))\n",
    "        #I1 = np.append(I1,trapz(Den_corr.real,w1))\n",
    "        #print(psi,I1[-1])\n",
    "    return p1,I1\n",
    "    \n",
    "    "
   ]
  },
  {
   "cell_type": "code",
   "execution_count": 25,
   "metadata": {},
   "outputs": [
    {
     "name": "stdout",
     "output_type": "stream",
     "text": [
      "Elapsed time: 402.6542427540 seconds.\n"
     ]
    }
   ],
   "source": [
    "start_time = time()\n",
    "p,I = corriente(-4.0,4.0,400)\n",
    "elapsed_time = time() - start_time\n",
    "print(\"Elapsed time: %.10f seconds.\" % elapsed_time)"
   ]
  },
  {
   "cell_type": "code",
   "execution_count": 26,
   "metadata": {},
   "outputs": [
    {
     "data": {
      "text/plain": [
       "[<matplotlib.lines.Line2D at 0x7f1e3d71a7b8>]"
      ]
     },
     "execution_count": 26,
     "metadata": {},
     "output_type": "execute_result"
    },
    {
     "data": {
      "image/png": "[encoded data removed]",
      "text/plain": [
       "<Figure size 432x288 with 1 Axes>"
      ]
     },
     "metadata": {
      "needs_background": "light"
     },
     "output_type": "display_data"
    }
   ],
   "source": [
    "plt.plot(p,I)"
   ]
  },
  {
   "cell_type": "code",
   "execution_count": null,
   "metadata": {},
   "outputs": [],
   "source": []
  }
 ],
 "metadata": {
  "kernelspec": {
   "display_name": "Python 3",
   "language": "python",
   "name": "python3"
  },
  "language_info": {
   "codemirror_mode": {
    "name": "ipython",
    "version": 3
   },
   "file_extension": ".py",
   "mimetype": "text/x-python",
   "name": "python",
   "nbconvert_exporter": "python",
   "pygments_lexer": "ipython3",
   "version": "3.6.7"
  }
 },
 "nbformat": 4,
 "nbformat_minor": 2
}
