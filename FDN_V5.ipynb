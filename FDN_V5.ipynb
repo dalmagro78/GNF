{
 "cells": [
  {
   "cell_type": "code",
   "execution_count": 10,
   "metadata": {},
   "outputs": [],
   "source": [
    "import numpy as np\n",
    "import matplotlib.pyplot as plt \n",
    "from scipy.sparse.linalg import spsolve\n",
    "from scipy import sparse\n",
    "from time import time"
   ]
  },
  {
   "cell_type": "code",
   "execution_count": 11,
   "metadata": {},
   "outputs": [],
   "source": [
    "N = 20 # numero de sitios\n",
    "gamma = 1\n",
    "nu = 1\n",
    "l_R = 0.0\n",
    "l_EO = 0.0\n",
    "E0 = 0\n",
    "KbT = 0\n",
    "w = 1\n",
    "eta = 1.0E-4\n",
    "e = 1\n",
    "c = 1\n",
    "h = 1\n",
    "phi_0 = c*h/e\n",
    "phi = phi_0/4.0\n",
    "theta = 2*np.pi*phi/N\n",
    "psi = 2*np.pi/N"
   ]
  },
  {
   "cell_type": "code",
   "execution_count": 12,
   "metadata": {},
   "outputs": [],
   "source": [
    "def matrix_A(w,theta,psi):\n",
    "    A = np.zeros((4*N,4*N),dtype=complex)\n",
    "    for n in range(1,N+1):\n",
    "        l = (n-1)%N+1\n",
    "        A[n-1,l-1] =  -(w-E0+eta*1.0j) # xi=1, sigma=1\n",
    "        A[n-1+N,l-1+N] =  -(w-E0+eta*1.0j)  #xi =1, sigma = -1\n",
    "        A[n-1+2*N,l-1+2*N] =  -(w-E0+eta*1.0j) # xi=-1, sigma=1\n",
    "        A[n-1+3*N,l-1+3*N] =  -(w-E0+eta*1.0j)  #xi = -1, sigma = -1\n",
    "        l = n%N + 1 \n",
    "        A[n-1,l-1] += gamma*np.exp(theta*1j) # xi=1, sigma=1\n",
    "        A[n-1+N,l-1+N] += gamma*np.exp(theta*1j) #xi =1, sigma = -1\n",
    "        A[n-1+2*N,l-1+2*N] += gamma*np.exp(theta*1j) # xi=-1, sigma=1\n",
    "        A[n-1+3*N,l-1+3*N] += gamma*np.exp(theta*1j)\n",
    "        A[n-1,l-1+2*N] = -l_R*np.exp(-psi*1j)*0.5j # xi=1, sigma=1\n",
    "        A[n-1+N,l-1+3*N] = -l_R*np.exp(psi*1j)*0.5j  #xi =1, sigma = -1\n",
    "        A[n-1+2*N,l-1] = -l_R*np.exp(psi*1j)*0.5j # xi=-1, sigma=1\n",
    "        A[n-1+3*N,l-1+N] = -l_R*np.exp(-psi*1j)*0.5j #xi = -1, sigma = -1\n",
    "        l = (n-2)%N + 1\n",
    "        A[n-1,l-1] += gamma*np.exp(-theta*1j) # xi=1, sigma=1\n",
    "        A[n-1+N,l-1+N] += gamma*np.exp(-theta*1j) #xi =1, sigma = -1\n",
    "        A[n-1+2*N,l-1+2*N] += gamma*np.exp(-theta*1j) # xi=-1, sigma=1\n",
    "        A[n-1+3*N,l-1+3*N] += gamma*np.exp(-theta*1j) #xi = -1, sigma = -1\n",
    "        A[n-1,l-1+2*N] += l_R*np.exp(-psi*1j)*0.5j # xi=1, sigma=1\n",
    "        A[n-1+N,l-1+3*N] += l_R*np.exp(psi*1j)*0.5j  #xi =1, sigma = -1\n",
    "        A[n-1+2*N,l-1] += l_R*np.exp(psi*1j)*0.5j # xi=-1, sigma=1\n",
    "        A[n-1+3*N,l-1+N] += l_R*np.exp(-psi*1j)*0.5j #xi = -1, sigma = -1\n",
    "        l = (n+1)%N + 1\n",
    "        A[n-1,l-1] += l_EO*nu*0.5j # xi=1, sigma=1\n",
    "        A[n-1+N,l-1+N] += -l_EO*nu*0.5j #xi =1, sigma = -1\n",
    "        A[n-1+2*N,l-1+2*N] += -l_EO*nu*0.5j # xi=-1, sigma=1\n",
    "        A[n-1+3*N,l-1+3*N] += l_EO*nu*0.5j #xi = -1, sigma = -1\n",
    "    A = sparse.csr_matrix(A)\n",
    "    return A\n",
    "\n",
    "B = np.zeros(4*N,dtype=complex)\n",
    "B[0] = -1\n",
    "B[3*N] = -1"
   ]
  },
  {
   "cell_type": "markdown",
   "metadata": {},
   "source": [
    "## Densidad de Corriente\n",
    "\n",
    "$J_c(w) = ie\\left[2i\\gamma\\mathcal{I}\\left(e^{i\\theta}(-ig^{<}_{2,\\uparrow;1,\\uparrow}-ig^{<}_{2,\\downarrow;1,\\downarrow})  \\right)  + \\lambda_{EO}\\nu(g^{<}_{3,\\uparrow;1,\\uparrow}-g^{<}_{3,\\downarrow;1,\\downarrow}) + 2i\\lambda_R \\mathcal{R}(e^{-i\\psi}(-ig^{<}_{2,\\downarrow;1,\\uparrow})+e^{i\\psi}(-ig^{<}_{2,\\uparrow;1,\\downarrow}))\\right]$\n",
    "\n",
    "con \n",
    "\n",
    "$g^{<}(w)_{n,\\xi\\sigma;1\\sigma}=\\frac{2i\\mathcal{I}(g^r_{n,\\xi\\sigma;1\\sigma})}{e^{\\beta w}+1}$\n",
    "\n",
    "---\n",
    "\n",
    "$g^{r}_{2,\\uparrow;1,\\uparrow} = G[1]$\n",
    "\n",
    "$g^{r}_{2,\\downarrow;1,\\downarrow} = G[N+1]$\n",
    "\n",
    "$g^{r}_{3,\\uparrow;1,\\uparrow} = G[2]$\n",
    "\n",
    "$g^{r}_{3,\\downarrow;1,\\downarrow} = G[N+2]$\n",
    "\n",
    "$g^{r}_{2,\\downarrow;1,\\uparrow} = G[2N+1]$\n",
    "\n",
    "$g^{r}_{2,\\uparrow;1,\\downarrow} = G[3N+1]$\n"
   ]
  },
  {
   "cell_type": "code",
   "execution_count": 13,
   "metadata": {},
   "outputs": [],
   "source": [
    "def den_corr(G,w,theta,psi):\n",
    "    '''\n",
    "    Calculo de la densidad de corriente\n",
    "    '''\n",
    "    g2111 = 2j*G[1].imag\n",
    "    g2_11_1 = 2j*G[N+1].imag\n",
    "    g3111 = 2j*G[2].imag\n",
    "    g3_11_1 = 2j*G[N+2].imag\n",
    "    g2_111 = 2j*G[2*N+1].imag\n",
    "    g211_1 = 2j*G[3*N+1].imag\n",
    "    t1 = np.exp(1j*theta)*(-1j*g2111-1j*g2_11_1)\n",
    "    t2 = l_EO*nu*(g3111-g3_11_1)\n",
    "    t3 = -1j*np.exp(-1j*psi)*g2_111 -1j*np.exp(1j*psi)*g211_1\n",
    "    Jc = 1j*e*(2j*gamma*t1.imag + t2 + 2j*l_R*t3.real)\n",
    "    return Jc"
   ]
  },
  {
   "cell_type": "code",
   "execution_count": 14,
   "metadata": {},
   "outputs": [],
   "source": [
    "def Jc_w(w_0,w_f,nw):\n",
    "    w1 = np.linspace(w_0,w_f,nw)\n",
    "    Jc = np.array([],dtype=complex)\n",
    "    for w0 in w1:\n",
    "        global w\n",
    "        w = w0\n",
    "        A = matrix_A(w,theta,psi)       # creamos la matriz A\n",
    "        G = spsolve(A,B)\n",
    "        G = np.asarray(G).ravel()\n",
    "        Jc = np.append(Jc,den_corr(G,w,theta,psi)) # calculamos densidad espectral\n",
    "    return w1, Jc\n"
   ]
  },
  {
   "cell_type": "code",
   "execution_count": 15,
   "metadata": {},
   "outputs": [
    {
     "name": "stdout",
     "output_type": "stream",
     "text": [
      "Elapsed time: 205.5953114033 seconds.\n"
     ]
    },
    {
     "data": {
      "image/png": "[encoded data removed]",
      "text/plain": [
       "<Figure size 504x360 with 1 Axes>"
      ]
     },
     "metadata": {
      "needs_background": "light"
     },
     "output_type": "display_data"
    }
   ],
   "source": [
    "start_time = time()\n",
    "\n",
    "w1,Den_corr = Jc_w(-3,3,90001)\n",
    "plt.figure(figsize=(7,5))\n",
    "plt.plot(w1,Den_corr.real) # grafico la densidad de corriente\n",
    "plt.title(\"$J_c$ vs $w$\")\n",
    "plt.xlabel(\"$w$\")\n",
    "plt.ylabel(\"$J_c$\")\n",
    "elapsed_time = time() - start_time\n",
    "print(\"Elapsed time: %.10f seconds.\" % elapsed_time)"
   ]
  },
  {
   "cell_type": "code",
   "execution_count": 16,
   "metadata": {},
   "outputs": [],
   "source": [
    "def Jc_p(p_0,p_f,n_p):\n",
    "    p1 = np.linspace(p_0,p_f,n_p)\n",
    "    Jc = np.array([],dtype=complex)\n",
    "    for p in p1:\n",
    "        global theta\n",
    "        theta = 2.0*np.pi*p/N\n",
    "        A = matrix_A(w,theta,psi)       # creamos la matriz A\n",
    "        G = spsolve(A,B)\n",
    "        G = np.asarray(G).ravel()\n",
    "        Jc = np.append(Jc,den_corr(G,w,theta,psi)) # calculamos densidad espectral\n",
    "    return p1, Jc"
   ]
  },
  {
   "cell_type": "code",
   "execution_count": 17,
   "metadata": {},
   "outputs": [
    {
     "name": "stdout",
     "output_type": "stream",
     "text": [
      "Elapsed time: 331.9171411991 seconds.\n"
     ]
    },
    {
     "data": {
      "image/png": "[encoded data removed]",
      "text/plain": [
       "<Figure size 504x360 with 1 Axes>"
      ]
     },
     "metadata": {
      "needs_background": "light"
     },
     "output_type": "display_data"
    }
   ],
   "source": [
    "\n",
    "w = 1.0  # introducir w\n",
    "start_time = time()\n",
    "\n",
    "p1,Den_corr = Jc_p(-2,1,100001)\n",
    "plt.figure(figsize=(7,5))\n",
    "plt.plot(p1,Den_corr.real) # grafico la densidad de corriente\n",
    "plt.title(\"$J_c$ vs $\\phi$\")\n",
    "plt.xlabel(\"$\\phi$\")\n",
    "plt.ylabel(\"$J_c$\")\n",
    "elapsed_time = time() - start_time\n",
    "print(\"Elapsed time: %.10f seconds.\" % elapsed_time)"
   ]
  },
  {
   "cell_type": "code",
   "execution_count": null,
   "metadata": {},
   "outputs": [],
   "source": []
  }
 ],
 "metadata": {
  "kernelspec": {
   "display_name": "Python 3",
   "language": "python",
   "name": "python3"
  },
  "language_info": {
   "codemirror_mode": {
    "name": "ipython",
    "version": 3
   },
   "file_extension": ".py",
   "mimetype": "text/x-python",
   "name": "python",
   "nbconvert_exporter": "python",
   "pygments_lexer": "ipython3",
   "version": "3.6.7"
  }
 },
 "nbformat": 4,
 "nbformat_minor": 2
}
