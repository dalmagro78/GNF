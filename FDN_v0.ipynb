{
 "cells": [
  {
   "cell_type": "markdown",
   "metadata": {},
   "source": [
    "## Creacion y solucion del sistema  formado por:\n",
    "\n",
    "$-wG_{n,\\xi\\sigma}=\\delta_{n,\\sigma}+E_0G_{n,\\xi\\sigma}+\\gamma\\left(\n",
    "e^{i\\theta}G_{n+(N+1),\\xi\\sigma}+e^{-i\\theta}G_{n+(N-1),\\xi\\sigma}\\right) + \\frac{i\\lambda_{EO}}{2}\\nu\\xi G_{n+(N+2),\\xi\\sigma} + \\frac{i\\lambda_R}{2}e^{i\\xi\\sigma\\phi}\\left(G_{n+(N-1),-\\xi\\sigma}-G_{n+(N+1),-\\xi\\sigma}\n",
    "\\right)$\n",
    "\n",
    "tomemos $E_0=0$\n",
    "\n",
    "Veamos cada los valores que acompanan a cada termino por separado:\n",
    "\n",
    "$(t_0) \\rightarrow G_{n,\\xi\\sigma}$\n",
    "\n",
    "$(t_1) \\rightarrow G_{n+(N+1),\\xi\\sigma}$ \n",
    "\n",
    "$(t_2) \\rightarrow G_{n+(N-1),\\xi\\sigma}$ \n",
    "\n",
    "$(t_3) \\rightarrow G_{n+(N+2),\\xi\\sigma}$ \n",
    "\n",
    "$(t_4) \\rightarrow G_{n+(N-1),-\\xi\\sigma}$ \n",
    "\n",
    "$(t_5) \\rightarrow G_{n+(N+1),-\\xi\\sigma}$\n",
    "\n",
    "El punto es crear un sistema algebraico del tipo $AG=B$ y resolver para $G$"
   ]
  },
  {
   "cell_type": "code",
   "execution_count": 2,
   "metadata": {},
   "outputs": [],
   "source": [
    "import numpy as np\n",
    "import matplotlib.pyplot as plt\n",
    "import pandas as pd \n"
   ]
  },
  {
   "cell_type": "code",
   "execution_count": 3,
   "metadata": {},
   "outputs": [],
   "source": [
    "N = 10 # numero de sitios\n",
    "gamma = 1\n",
    "theta = 1\n",
    "psi = 1\n",
    "nu = 1\n",
    "l_R = 1\n",
    "l_EO = 1\n",
    "sigma = 1\n",
    "E0 = 1\n",
    "KbT = 1"
   ]
  },
  {
   "cell_type": "code",
   "execution_count": 4,
   "metadata": {},
   "outputs": [],
   "source": [
    "def fila(n,xi,w,theta,psi):\n",
    "    '''\n",
    "    Esta función crea cada fila (cada ecuación)\n",
    "    n indica el sitio en cuestión\n",
    "    '''\n",
    "    A = np.zeros(2*N,dtype=complex)\n",
    "    # evaluemos cada termino\n",
    "    if xi==1: i = 0\n",
    "    else: i = N\n",
    "    A[n-1+i] += (E0+w) # t0\n",
    "    k = n+1\n",
    "    if k>N: k=k-N \n",
    "    A[k-1+i] += gamma*np.exp(theta*1j) # t1\n",
    "    k = (n-1)\n",
    "    A[k-1+i] += gamma*np.exp(-theta*1j) # t2 \n",
    "    k = n+2\n",
    "    if k>N: k=k-N\n",
    "    A[k-1+i] += l_EO*nu*xi*0.5j # t3\n",
    "    if xi==1: i = N\n",
    "    else: i = 0\n",
    "    k = n-1\n",
    "    A[k-1+i] += l_R*np.exp(xi*sigma*psi*1j)*0.5j  # t4\n",
    "    k = n+1\n",
    "    if k>N: k=k-N\n",
    "    A[k-1+i] += -l_R*np.exp(xi*sigma*psi*1j)*0.5j # t5    \n",
    "    return A\n",
    "\n",
    "def matrix_A(w,theta,psi):\n",
    "    '''\n",
    "    Esta función crea la matriz completa con los valores de xi=1 \n",
    "    y luego con los valores de xi=-1, en ese orden\n",
    "    '''\n",
    "    A = np.matrix(np.empty(shape=(0,2*N), dtype=complex))\n",
    "    for n in range(1,N+1):  \n",
    "        a1 = fila(n,1,w,theta,psi)\n",
    "        A = np.insert(A,(n-1),a1,axis=0)\n",
    "    for n in range(1,N+1):  \n",
    "        a1 = fila(n,-1,w,theta,psi)\n",
    "        A = np.insert(A,(n-1)+N,a1,axis=0)\n",
    "    return A\n",
    "\n",
    "\n",
    "w=1.5\n",
    "A = matrix_A(w,theta,psi)\n",
    "\n",
    "    "
   ]
  },
  {
   "cell_type": "code",
   "execution_count": 5,
   "metadata": {},
   "outputs": [],
   "source": [
    "B = np.zeros(2*N,dtype=complex)\n",
    "B[0] = -1"
   ]
  },
  {
   "cell_type": "code",
   "execution_count": 6,
   "metadata": {},
   "outputs": [
    {
     "name": "stdout",
     "output_type": "stream",
     "text": [
      "[-0.357235  -0.0254792j   0.11211167-0.0946935j  -0.03336686+0.03783646j\n",
      "  0.0708541 -0.05510834j -0.00326927+0.14410284j -0.13842786-0.0815039j\n",
      "  0.10064682-0.06842845j  0.01829985+0.02995027j  0.0455383 +0.02337974j\n",
      "  0.0308439 +0.13446247j  0.05487046+0.03462876j -0.08039976+0.07477548j\n",
      "  0.06581669-0.14348428j  0.04640448+0.21014585j -0.20714809-0.12063249j\n",
      "  0.20025772-0.07293053j -0.06067425+0.13095189j  0.01569831-0.08620311j\n",
      " -0.00626967+0.11933408j -0.11647426-0.12168014j]\n"
     ]
    }
   ],
   "source": [
    "G = np.dot(np.linalg.inv(A),B)\n",
    "G = np.asarray(G).ravel()\n",
    "\n",
    "# Los valores de G[0]=g_1,1  G[1] = g_2,1, ... G[N/2] = g_1,-1 ... G[-1] = g_N,-1\n",
    "print(G)\n",
    "#print(np.dot(A,G)) #chequeo de q lo resuelve correctamente!!"
   ]
  },
  {
   "cell_type": "markdown",
   "metadata": {},
   "source": [
    "# calculo de la densidad de Corriente J\n",
    "\n",
    "$J_c = ie\\left[\\gamma\\left(e^{i\\theta}g^{<}_{2\\sigma,1\\sigma} - e^{-i\\theta}g^{<}_{N(\\sigma),1\\sigma}\\right) \n",
    "+i\\lambda_{EO}\\nu_n\\sigma g^{<}_{3\\sigma,1\\sigma} - \\frac{i\\lambda_R}{2}\n",
    "e^{-\\sigma\\phi}\\left(g^{<}_{2(-\\sigma),1\\sigma}+g^{<}_{N(-\\sigma),1\\sigma}\\right)\\right]$\n",
    "\n",
    "con \n",
    "\n",
    "$g^{<}(w)=\\frac{-2iIm(g^r)}{e^{\\beta w}+1}$\n",
    "\n",
    "En este caso tomare como $g^r$ los obtenidos numericamente de la resolucion del sistema AG=b\n"
   ]
  },
  {
   "cell_type": "code",
   "execution_count": 7,
   "metadata": {},
   "outputs": [],
   "source": [
    "def den_corr(G,w,theta,psi):\n",
    "    '''\n",
    "    Calculo de la densidad de corriente\n",
    "    '''\n",
    "    a1 = -2j*G[1].imag/(np.exp(1/KbT)+1)\n",
    "    a2 = -2j*G[N-1].imag/(np.exp(1/KbT)+1)\n",
    "    a3 = -2j*G[N+1].imag/(np.exp(1/KbT)+1)\n",
    "    a4 = -2j*G[-1].imag/(np.exp(1/KbT)+1)\n",
    "    b  = -2j*G[2].imag/(np.exp(1/KbT)+1)\n",
    "    t1 = gamma*(np.exp(theta*1j)*a1-np.exp(-theta*1j)*a2)\n",
    "    t2 = l_R*0.5j*np.exp(-sigma*psi)*(a3+a4)\n",
    "    Jc = 1j*np.exp(1)*(t1 + 1j*l_EO*nu*sigma*b - t2)\n",
    "    return Jc"
   ]
  },
  {
   "cell_type": "code",
   "execution_count": 8,
   "metadata": {},
   "outputs": [
    {
     "data": {
      "text/plain": [
       "(-0.1810298337762159+0.1168648718498836j)"
      ]
     },
     "execution_count": 8,
     "metadata": {},
     "output_type": "execute_result"
    }
   ],
   "source": [
    "Jc = den_corr(G,w,theta,psi)\n",
    "Jc"
   ]
  },
  {
   "cell_type": "markdown",
   "metadata": {},
   "source": [
    "- - - \n",
    "## Grafiquemos Jc vs $\\phi$"
   ]
  },
  {
   "cell_type": "code",
   "execution_count": 9,
   "metadata": {},
   "outputs": [],
   "source": [
    "l_R = 0.07\n",
    "l_EO = 0.07\n",
    "\n",
    "p = np.linspace(-10,10,1000)\n",
    "\n",
    "Jc = np.array([],dtype=complex)\n",
    "for phi in p:\n",
    "    A = matrix_A(w,theta,phi)       # creamos la matriz A\n",
    "    B = np.zeros(2*N,dtype=complex) # creamos el vector B\n",
    "    B[0] = -1\n",
    "    G = np.dot(np.linalg.inv(A),B)  # Resolvemos el sistema AG=B\n",
    "    G = np.asarray(G).ravel()\n",
    "    Jc = np.append(Jc,den_corr(G,w,theta,phi)) # calculamos Jc\n",
    "    \n"
   ]
  },
  {
   "cell_type": "code",
   "execution_count": 10,
   "metadata": {},
   "outputs": [
    {
     "data": {
      "text/plain": [
       "Text(0, 0.5, 'Real(Jc)')"
      ]
     },
     "execution_count": 10,
     "metadata": {},
     "output_type": "execute_result"
    },
    {
     "data": {
      "image/png": "[encoded data removed]",
      "text/plain": [
       "<Figure size 432x288 with 1 Axes>"
      ]
     },
     "metadata": {
      "needs_background": "light"
     },
     "output_type": "display_data"
    }
   ],
   "source": [
    "\n",
    "plt.plot(p,Jc.real) # grafico la parte real de Jc\n",
    "plt.title(\"Real(Jc) vs $\\\\phi$\")\n",
    "plt.xlabel(\"$\\\\phi$\")\n",
    "plt.ylabel(\"Real(Jc)\")"
   ]
  },
  {
   "cell_type": "code",
   "execution_count": 11,
   "metadata": {},
   "outputs": [
    {
     "data": {
      "text/plain": [
       "Text(0, 0.5, 'Real(Jc)')"
      ]
     },
     "execution_count": 11,
     "metadata": {},
     "output_type": "execute_result"
    },
    {
     "data": {
      "image/png": "[encoded data removed]",
      "text/plain": [
       "<Figure size 432x288 with 1 Axes>"
      ]
     },
     "metadata": {
      "needs_background": "light"
     },
     "output_type": "display_data"
    }
   ],
   "source": [
    "# cambiemos los valores de l_R y l_EO\n",
    "\n",
    "l_R = 0.7\n",
    "l_EO = 0.7\n",
    "\n",
    "p = np.linspace(-10,10,1000)\n",
    "\n",
    "Jc = np.array([],dtype=complex)\n",
    "for phi in p:\n",
    "    A = matrix_A(w,theta,phi)       # creamos la matriz A\n",
    "    B = np.zeros(2*N,dtype=complex) # creamos el vector B\n",
    "    B[0] = -1\n",
    "    G = np.dot(np.linalg.inv(A),B)  # Resolvemos el sistema AG=B\n",
    "    G = np.asarray(G).ravel()\n",
    "    Jc = np.append(Jc,den_corr(G,w,theta,phi)) # calculamos Jc\n",
    "    \n",
    "plt.plot(p,Jc.real) # grafico la parte real de Jc\n",
    "plt.title(\"Real(Jc) vs $\\\\phi$\")\n",
    "plt.xlabel(\"$\\\\phi$\")\n",
    "plt.ylabel(\"Real(Jc)\")"
   ]
  }
 ],
 "metadata": {
  "kernelspec": {
   "display_name": "Python 3",
   "language": "python",
   "name": "python3"
  },
  "language_info": {
   "codemirror_mode": {
    "name": "ipython",
    "version": 3
   },
   "file_extension": ".py",
   "mimetype": "text/x-python",
   "name": "python",
   "nbconvert_exporter": "python",
   "pygments_lexer": "ipython3",
   "version": "3.6.7"
  }
 },
 "nbformat": 4,
 "nbformat_minor": 2
}
